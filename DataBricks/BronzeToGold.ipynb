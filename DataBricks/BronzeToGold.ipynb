{
 "cells": [
  {
   "cell_type": "code",
   "execution_count": 0,
   "metadata": {
    "application/vnd.databricks.v1+cell": {
     "cellMetadata": {
      "byteLimit": 2048000,
      "rowLimit": 10000
     },
     "inputWidgets": {},
     "nuid": "d27552e3-46b1-4d5c-9339-1b35dbe261c3",
     "showTitle": false,
     "tableResultSettingsMap": {},
     "title": ""
    }
   },
   "outputs": [
    {
     "output_type": "stream",
     "name": "stdout",
     "output_type": "stream",
     "text": [
      "--------> Loading data -------------------------------------------------\nData loaded for CountryRegionCurrency:\nData loaded for CreditCard:\nData loaded for Currency:\nData loaded for CurrencyRate:\nData loaded for Customer:\nData loaded for PersonCreditCard:\nData loaded for SalesOrderDetail:\nData loaded for SalesOrderHeader:\nData loaded for SalesOrderHeaderSalesReason:\nData loaded for SalesPerson:\nData loaded for SalesPersonQuotaHistory:\nData loaded for SalesReason:\nData loaded for SalesTaxRate:\nData loaded for SalesTerritory:\nData loaded for SalesTerritoryHistory:\nData loaded for ShoppingCartItem:\nData loaded for SpecialOffer:\nData loaded for SpecialOfferProduct:\nData loaded for Store:\n--------> Transforming Data -------------------------------------------------\n--------> Saving Data To Gold -------------------------------------------------\nDataFrame CountryRegionCurrency has been saved to Gold at /mnt/gold/Sales/CountryRegionCurrency/\nDataFrame CreditCard has been saved to Gold at /mnt/gold/Sales/CreditCard/\nDataFrame Currency has been saved to Gold at /mnt/gold/Sales/Currency/\nDataFrame CurrencyRate has been saved to Gold at /mnt/gold/Sales/CurrencyRate/\nDataFrame Customer has been saved to Gold at /mnt/gold/Sales/Customer/\nDataFrame PersonCreditCard has been saved to Gold at /mnt/gold/Sales/PersonCreditCard/\nDataFrame SalesOrderDetail has been saved to Gold at /mnt/gold/Sales/SalesOrderDetail/\nDataFrame SalesOrderHeader has been saved to Gold at /mnt/gold/Sales/SalesOrderHeader/\nDataFrame SalesOrderHeaderSalesReason has been saved to Gold at /mnt/gold/Sales/SalesOrderHeaderSalesReason/\nDataFrame SalesPerson has been saved to Gold at /mnt/gold/Sales/SalesPerson/\nDataFrame SalesPersonQuotaHistory has been saved to Gold at /mnt/gold/Sales/SalesPersonQuotaHistory/\nDataFrame SalesReason has been saved to Gold at /mnt/gold/Sales/SalesReason/\nDataFrame SalesTaxRate has been saved to Gold at /mnt/gold/Sales/SalesTaxRate/\nDataFrame SalesTerritory has been saved to Gold at /mnt/gold/Sales/SalesTerritory/\nDataFrame SalesTerritoryHistory has been saved to Gold at /mnt/gold/Sales/SalesTerritoryHistory/\nDataFrame ShoppingCartItem has been saved to Gold at /mnt/gold/Sales/ShoppingCartItem/\nDataFrame SpecialOffer has been saved to Gold at /mnt/gold/Sales/SpecialOffer/\nDataFrame SpecialOfferProduct has been saved to Gold at /mnt/gold/Sales/SpecialOfferProduct/\nDataFrame Store has been saved to Gold at /mnt/gold/Sales/Store/\n"
     ]
    }
   ],
   "source": [
    "from pyspark.sql.functions import col, when, lit\n",
    "\n",
    "print('--------> Loading data -------------------------------------------------')\n",
    "table_names = [i.name.split('/')[0] for i in dbutils.fs.ls('/mnt/bronze/Sales/')]\n",
    "\n",
    "for table_name in table_names:\n",
    "    try:\n",
    "        df = spark.read.format('parquet').load(f\"/mnt/bronze/Sales/{table_name}/{table_name}.parquet\")\n",
    "        df = df.dropDuplicates()\n",
    "        df = df.withColumnRenamed(\"ModifiedDate\", \"Date\")\n",
    "\n",
    "        globals()[f\"{table_name}_df\"] = df\n",
    "        print(f\"Data loaded for {table_name}:\")\n",
    "\n",
    "    except Exception as e:\n",
    "        print(f\"Error processing {table_name}: {e}\")\n",
    "\n",
    "\n",
    "\n",
    "print('--------> Transforming Data -------------------------------------------------')\n",
    "# Customer\n",
    "Customer_df = Customer_df.drop('StoreID')\n",
    "Customer_df = Customer_df.filter(col('PersonID').isNotNull())\n",
    "Customer_df = Customer_df.withColumn(\"PersonID\", col(\"PersonID\").cast(\"int\"))\n",
    "\n",
    "# SalesOrderDetail\n",
    "SalesOrderDetail_df = SalesOrderDetail_df.withColumn(\n",
    "    'CarrierTrackingNumber',\n",
    "    when(col(\"CarrierTrackingNumber\").isNull(), lit('UNKNOWN'))\n",
    "    .otherwise(col(\"CarrierTrackingNumber\"))\n",
    ")\n",
    "\n",
    "# SalesOrderHeader\n",
    "SalesOrderHeader_df = SalesOrderHeader_df.drop(\"PurchaseOrderNumber\", \"SalesPersonID\", \"Comment\", \"CurrencyRateID\")\n",
    "SalesOrderHeader_df = SalesOrderHeader_df.filter(col(\"CreditCardID\").isNotNull())\n",
    "SalesOrderHeader_df = SalesOrderHeader_df.withColumn(\"CreditCardID\", col(\"CreditCardID\").cast(\"int\"))\n",
    "\n",
    "\n",
    "# SalesPerson\n",
    "SalesPerson_df = SalesPerson_df.filter(col('TerritoryID').isNotNull())\n",
    "SalesPerson_df = SalesPerson_df.withColumn(\"TerritoryID\", col(\"TerritoryID\").cast(\"int\"))\n",
    "SalesPerson_df = SalesPerson_df.withColumn(\"SalesQuota\", col(\"SalesQuota\").cast(\"double\"))\n",
    "\n",
    "\n",
    "# SalesTerritoryHistory\n",
    "SalesTerritoryHistory_df = SalesTerritoryHistory_df.drop('EndDate')\n",
    "\n",
    "# SpecialOffer\n",
    "SpecialOffer_df = SpecialOffer_df.drop(\"MaxQty\")\n",
    "\n",
    "\n",
    "\n",
    "print('--------> Saving Data To Gold -------------------------------------------------')\n",
    "for table_name in table_names:\n",
    "    try:\n",
    "        df = globals().get(f\"{table_name}_df\")\n",
    "\n",
    "        if df is not None:\n",
    "            output_path = f\"/mnt/gold/Sales/{table_name}/\"\n",
    "            df.write.format(\"delta\").mode(\"overwrite\").save(output_path)\n",
    "\n",
    "            print(f\"DataFrame {table_name} has been saved to Gold at {output_path}\")\n",
    "        else:\n",
    "            print(f\"No DataFrame found for {table_name}\")\n",
    "\n",
    "    except Exception as e:\n",
    "        print(f\"Error while writing {table_name} to Gold: {e}\")\n"
   ]
  },
  {
   "cell_type": "code",
   "execution_count": 0,
   "metadata": {
    "application/vnd.databricks.v1+cell": {
     "cellMetadata": {},
     "inputWidgets": {},
     "nuid": "a626cddd-f605-465b-bccd-af0f6f7a985c",
     "showTitle": false,
     "tableResultSettingsMap": {},
     "title": ""
    }
   },
   "outputs": [],
   "source": []
  }
 ],
 "metadata": {
  "application/vnd.databricks.v1+notebook": {
   "computePreferences": null,
   "dashboards": [],
   "environmentMetadata": {
    "base_environment": "",
    "client": "1"
   },
   "language": "python",
   "notebookMetadata": {
    "pythonIndentUnit": 4
   },
   "notebookName": "BronzeToGold",
   "widgets": {}
  },
  "language_info": {
   "name": "python"
  }
 },
 "nbformat": 4,
 "nbformat_minor": 0
}