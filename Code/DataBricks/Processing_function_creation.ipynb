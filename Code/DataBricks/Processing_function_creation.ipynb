{
 "cells": [
  {
   "cell_type": "code",
   "execution_count": 151,
   "metadata": {},
   "outputs": [],
   "source": [
    "from pyspark.sql import functions as F\n",
    "from pyspark.sql import SparkSession\n",
    "from pyspark.sql.types import TimestampType\n",
    "import os\n",
    "from pyspark.sql.functions import col, lit, concat, avg, when, sum, count, min, max, split, to_timestamp, from_utc_timestamp, date_format, reduce, when, upper"
   ]
  },
  {
   "cell_type": "code",
   "execution_count": 117,
   "metadata": {},
   "outputs": [],
   "source": [
    "spark = SparkSession.builder.appName(\"MySparkApp\").getOrCreate()"
   ]
  },
  {
   "cell_type": "code",
   "execution_count": 155,
   "metadata": {},
   "outputs": [
    {
     "data": {
      "text/plain": [
       "['CountryRegionCurrency.csv',\n",
       " 'CreditCard.csv',\n",
       " 'Currency.csv',\n",
       " 'CurrencyRate.csv',\n",
       " 'Customer.csv',\n",
       " 'PersonCreditCard.csv',\n",
       " 'SalesOrderDetail.csv',\n",
       " 'SalesOrderHeader.csv',\n",
       " 'SalesOrderHeaderSalesReason.csv',\n",
       " 'SalesPerson.csv',\n",
       " 'SalesPersonQuotaHistory.csv',\n",
       " 'SalesReason.csv',\n",
       " 'SalesTaxRate.csv',\n",
       " 'SalesTerritory.csv',\n",
       " 'SalesTerritoryHistory.csv',\n",
       " 'ShoppingCartItem.csv',\n",
       " 'SpecialOffer.csv',\n",
       " 'SpecialOfferProduct.csv',\n",
       " 'Store.csv']"
      ]
     },
     "execution_count": 155,
     "metadata": {},
     "output_type": "execute_result"
    }
   ],
   "source": [
    "fichiers_csv = [f for f in os.listdir(dossier) if f.endswith('.csv')]\n",
    "fichiers_csv"
   ]
  },
  {
   "cell_type": "code",
   "execution_count": 220,
   "metadata": {},
   "outputs": [],
   "source": [
    "dossier = './Data'\n",
    "fichiers_csv = [f for f in os.listdir(dossier) if f.endswith('.csv')]\n",
    "\n",
    "for fichier in fichiers_csv:\n",
    "    nom_df = fichier.split('.')[0]  \n",
    "    df = spark.read.csv(os.path.join(dossier, fichier), header=True, inferSchema=True)\n",
    "    df = df.dropDuplicates()\n",
    "    globals()[f\"{nom_df}_df\"] = df"
   ]
  },
  {
   "cell_type": "markdown",
   "metadata": {},
   "source": [
    "## CountryRegionCurrency"
   ]
  },
  {
   "cell_type": "code",
   "execution_count": 122,
   "metadata": {},
   "outputs": [],
   "source": [
    "# Nothing Except ModifiedDate to Date \n",
    "CountryRegionCurrency_df = CountryRegionCurrency_df.withColumnRenamed(\"ModifiedDate\", \"Date\")\n",
    "##"
   ]
  },
  {
   "cell_type": "code",
   "execution_count": 162,
   "metadata": {},
   "outputs": [
    {
     "name": "stdout",
     "output_type": "stream",
     "text": [
      "+-----------------+------------+----+\n",
      "|CountryRegionCode|CurrencyCode|Date|\n",
      "+-----------------+------------+----+\n",
      "|                1|           0|   0|\n",
      "+-----------------+------------+----+\n",
      "\n"
     ]
    }
   ],
   "source": [
    "\n",
    "df_missing_values_CountryRegionCurrency_df = CountryRegionCurrency_df.select([\n",
    "    sum(\n",
    "        when(\n",
    "            (col(c).isNull()) |               \n",
    "            (col(c) == '') |                  \n",
    "            (col(c) == ' ') |          \n",
    "            (col(c).rlike(r'^\\s*$')) | \n",
    "            (upper(col(c)) == 'NULL') |\n",
    "            (upper(col(c)) == 'NA') |  \n",
    "            (upper(col(c)) == 'NAN') |  \n",
    "            (upper(col(c)) == 'N/A') | \n",
    "            (upper(col(c)) == 'NONE'), \n",
    "            1\n",
    "        ).otherwise(0)\n",
    "    ).alias(c)\n",
    "    for c in CountryRegionCurrency_df.columns\n",
    "])\n",
    "\n",
    "df_missing_values_CountryRegionCurrency_df.show()\n"
   ]
  },
  {
   "cell_type": "code",
   "execution_count": 154,
   "metadata": {},
   "outputs": [
    {
     "data": {
      "text/plain": [
       "[('CountryRegionCode', 'string'),\n",
       " ('CurrencyCode', 'string'),\n",
       " ('Date', 'timestamp')]"
      ]
     },
     "execution_count": 154,
     "metadata": {},
     "output_type": "execute_result"
    }
   ],
   "source": [
    "CountryRegionCurrency_df.dtypes"
   ]
  },
  {
   "cell_type": "markdown",
   "metadata": {},
   "source": [
    "## CreditCard"
   ]
  },
  {
   "cell_type": "code",
   "execution_count": 124,
   "metadata": {},
   "outputs": [],
   "source": [
    "##\n",
    "CreditCard_df = CreditCard_df.withColumnRenamed(\"ModifiedDate\", \"Date\")"
   ]
  },
  {
   "cell_type": "code",
   "execution_count": 161,
   "metadata": {},
   "outputs": [
    {
     "name": "stdout",
     "output_type": "stream",
     "text": [
      "+------------+--------+----------+--------+-------+----+\n",
      "|CreditCardID|CardType|CardNumber|ExpMonth|ExpYear|Date|\n",
      "+------------+--------+----------+--------+-------+----+\n",
      "|           0|       0|         0|       0|      0|   0|\n",
      "+------------+--------+----------+--------+-------+----+\n",
      "\n"
     ]
    }
   ],
   "source": [
    "\n",
    "df_missing_values_CreditCard_df = CreditCard_df.select([\n",
    "    sum(\n",
    "        when(\n",
    "            (col(c).isNull()) |               \n",
    "            (col(c) == '') |                  \n",
    "            (col(c) == ' ') |          \n",
    "            (col(c).rlike(r'^\\s*$')) | \n",
    "            (upper(col(c)) == 'NULL') |\n",
    "            (upper(col(c)) == 'NA') |  \n",
    "            (upper(col(c)) == 'NAN') |  \n",
    "            (upper(col(c)) == 'N/A') | \n",
    "            (upper(col(c)) == 'NONE'), \n",
    "            1\n",
    "        ).otherwise(0)\n",
    "    ).alias(c)\n",
    "    for c in CreditCard_df.columns\n",
    "])\n",
    "\n",
    "df_missing_values_CreditCard_df.show()\n"
   ]
  },
  {
   "cell_type": "code",
   "execution_count": 153,
   "metadata": {},
   "outputs": [
    {
     "data": {
      "text/plain": [
       "[('CreditCardID', 'int'),\n",
       " ('CardType', 'string'),\n",
       " ('CardNumber', 'bigint'),\n",
       " ('ExpMonth', 'int'),\n",
       " ('ExpYear', 'int'),\n",
       " ('Date', 'timestamp')]"
      ]
     },
     "execution_count": 153,
     "metadata": {},
     "output_type": "execute_result"
    }
   ],
   "source": [
    "CreditCard_df.dtypes"
   ]
  },
  {
   "cell_type": "markdown",
   "metadata": {},
   "source": [
    "## Currency"
   ]
  },
  {
   "cell_type": "code",
   "execution_count": 156,
   "metadata": {},
   "outputs": [],
   "source": [
    "Currency_df = Currency_df.withColumnRenamed(\"ModifiedDate\", \"Date\")"
   ]
  },
  {
   "cell_type": "code",
   "execution_count": 157,
   "metadata": {},
   "outputs": [
    {
     "data": {
      "text/plain": [
       "[('CurrencyCode', 'string'), ('Name', 'string'), ('Date', 'timestamp')]"
      ]
     },
     "execution_count": 157,
     "metadata": {},
     "output_type": "execute_result"
    }
   ],
   "source": [
    "Currency_df.dtypes"
   ]
  },
  {
   "cell_type": "code",
   "execution_count": 160,
   "metadata": {},
   "outputs": [
    {
     "name": "stdout",
     "output_type": "stream",
     "text": [
      "+------------+----+----+\n",
      "|CurrencyCode|Name|Date|\n",
      "+------------+----+----+\n",
      "|           0|   0|   0|\n",
      "+------------+----+----+\n",
      "\n"
     ]
    }
   ],
   "source": [
    "\n",
    "df_missing_values_Currency_df = Currency_df.select([\n",
    "    sum(\n",
    "        when(\n",
    "            (col(c).isNull()) |               \n",
    "            (col(c) == '') |                  \n",
    "            (col(c) == ' ') |          \n",
    "            (col(c).rlike(r'^\\s*$')) | \n",
    "            (upper(col(c)) == 'NULL') |\n",
    "            (upper(col(c)) == 'NA') |  \n",
    "            (upper(col(c)) == 'NAN') |  \n",
    "            (upper(col(c)) == 'N/A') | \n",
    "            (upper(col(c)) == 'NONE'), \n",
    "            1\n",
    "        ).otherwise(0)\n",
    "    ).alias(c)\n",
    "    for c in Currency_df.columns\n",
    "])\n",
    "\n",
    "df_missing_values_Currency_df.show()\n"
   ]
  },
  {
   "cell_type": "markdown",
   "metadata": {},
   "source": [
    "## CurrencyRate"
   ]
  },
  {
   "cell_type": "code",
   "execution_count": 163,
   "metadata": {},
   "outputs": [],
   "source": [
    "CurrencyRate_df = CurrencyRate_df.withColumnRenamed(\"ModifiedDate\", \"Date\")"
   ]
  },
  {
   "cell_type": "code",
   "execution_count": 164,
   "metadata": {},
   "outputs": [
    {
     "data": {
      "text/plain": [
       "[('CurrencyRateID', 'int'),\n",
       " ('CurrencyRateDate', 'timestamp'),\n",
       " ('FromCurrencyCode', 'string'),\n",
       " ('ToCurrencyCode', 'string'),\n",
       " ('AverageRate', 'double'),\n",
       " ('EndOfDayRate', 'double'),\n",
       " ('Date', 'timestamp')]"
      ]
     },
     "execution_count": 164,
     "metadata": {},
     "output_type": "execute_result"
    }
   ],
   "source": [
    "CurrencyRate_df.dtypes"
   ]
  },
  {
   "cell_type": "code",
   "execution_count": 165,
   "metadata": {},
   "outputs": [
    {
     "name": "stdout",
     "output_type": "stream",
     "text": [
      "+--------------+----------------+----------------+--------------+-----------+------------+----+\n",
      "|CurrencyRateID|CurrencyRateDate|FromCurrencyCode|ToCurrencyCode|AverageRate|EndOfDayRate|Date|\n",
      "+--------------+----------------+----------------+--------------+-----------+------------+----+\n",
      "|             0|               0|               0|             0|          0|           0|   0|\n",
      "+--------------+----------------+----------------+--------------+-----------+------------+----+\n",
      "\n"
     ]
    }
   ],
   "source": [
    "\n",
    "df_missing_values_CurrencyRate_df = CurrencyRate_df.select([\n",
    "    sum(\n",
    "        when(\n",
    "            (col(c).isNull()) |               \n",
    "            (col(c) == '') |                  \n",
    "            (col(c) == ' ') |          \n",
    "            (col(c).rlike(r'^\\s*$')) | \n",
    "            (upper(col(c)) == 'NULL') |\n",
    "            (upper(col(c)) == 'NA') |  \n",
    "            (upper(col(c)) == 'NAN') |  \n",
    "            (upper(col(c)) == 'N/A') | \n",
    "            (upper(col(c)) == 'NONE'), \n",
    "            1\n",
    "        ).otherwise(0)\n",
    "    ).alias(c)\n",
    "    for c in CurrencyRate_df.columns\n",
    "])\n",
    "\n",
    "df_missing_values_CurrencyRate_df.show()\n"
   ]
  },
  {
   "cell_type": "code",
   "execution_count": 234,
   "metadata": {},
   "outputs": [
    {
     "data": {
      "text/plain": [
       "13532"
      ]
     },
     "execution_count": 234,
     "metadata": {},
     "output_type": "execute_result"
    }
   ],
   "source": [
    "CurrencyRate_df.count()"
   ]
  },
  {
   "cell_type": "markdown",
   "metadata": {},
   "source": [
    "## Customer"
   ]
  },
  {
   "cell_type": "code",
   "execution_count": 166,
   "metadata": {},
   "outputs": [],
   "source": [
    "Customer_df = Customer_df.withColumnRenamed(\"ModifiedDate\", \"Date\")"
   ]
  },
  {
   "cell_type": "code",
   "execution_count": 168,
   "metadata": {},
   "outputs": [
    {
     "data": {
      "text/plain": [
       "[('CustomerID', 'int'),\n",
       " ('PersonID', 'string'),\n",
       " ('StoreID', 'string'),\n",
       " ('TerritoryID', 'int'),\n",
       " ('AccountNumber', 'string'),\n",
       " ('rowguid', 'string'),\n",
       " ('Date', 'timestamp')]"
      ]
     },
     "execution_count": 168,
     "metadata": {},
     "output_type": "execute_result"
    }
   ],
   "source": [
    "Customer_df.dtypes"
   ]
  },
  {
   "cell_type": "code",
   "execution_count": 170,
   "metadata": {},
   "outputs": [
    {
     "name": "stdout",
     "output_type": "stream",
     "text": [
      "+----------+--------+-------+-----------+-------------+-------+----+\n",
      "|CustomerID|PersonID|StoreID|TerritoryID|AccountNumber|rowguid|Date|\n",
      "+----------+--------+-------+-----------+-------------+-------+----+\n",
      "|         0|     701|  18484|          0|            0|      0|   0|\n",
      "+----------+--------+-------+-----------+-------------+-------+----+\n",
      "\n",
      "19820\n"
     ]
    }
   ],
   "source": [
    "\n",
    "df_missing_values_Customer_df = Customer_df.select([\n",
    "    sum(\n",
    "        when(\n",
    "            (col(c).isNull()) |               \n",
    "            (col(c) == '') |                  \n",
    "            (col(c) == ' ') |          \n",
    "            (col(c).rlike(r'^\\s*$')) | \n",
    "            (upper(col(c)) == 'NULL') |\n",
    "            (upper(col(c)) == 'NA') |  \n",
    "            (upper(col(c)) == 'NAN') |  \n",
    "            (upper(col(c)) == 'N/A') | \n",
    "            (upper(col(c)) == 'NONE'), \n",
    "            1\n",
    "        ).otherwise(0)\n",
    "    ).alias(c)\n",
    "    for c in Customer_df.columns\n",
    "])\n",
    "\n",
    "df_missing_values_Customer_df.show()\n",
    "print(Customer_df.count())\n"
   ]
  },
  {
   "cell_type": "code",
   "execution_count": 185,
   "metadata": {},
   "outputs": [
    {
     "name": "stdout",
     "output_type": "stream",
     "text": [
      "pour StoreId  0.9667869658454941  %\n",
      "pour PersonId  0.03666509754694283  %\n"
     ]
    }
   ],
   "source": [
    "print('pour StoreId ', 18484/Customer_df.count(), ' %')\n",
    "print('pour PersonId ', 701/Customer_df.count(), ' %')"
   ]
  },
  {
   "cell_type": "code",
   "execution_count": 173,
   "metadata": {},
   "outputs": [],
   "source": [
    "Customer_df = Customer_df.drop('StoreID')"
   ]
  },
  {
   "cell_type": "code",
   "execution_count": null,
   "metadata": {},
   "outputs": [],
   "source": [
    "Customer_df.where(col('PersonID') == 'NULL').show()"
   ]
  },
  {
   "cell_type": "code",
   "execution_count": 182,
   "metadata": {},
   "outputs": [],
   "source": [
    "Customer_df = Customer_df.filter(~(col('PersonID') == 'NULL'))"
   ]
  },
  {
   "cell_type": "code",
   "execution_count": 183,
   "metadata": {},
   "outputs": [
    {
     "name": "stdout",
     "output_type": "stream",
     "text": [
      "+----------+--------+-----------+-------------+-------+----+\n",
      "|CustomerID|PersonID|TerritoryID|AccountNumber|rowguid|Date|\n",
      "+----------+--------+-----------+-------------+-------+----+\n",
      "+----------+--------+-----------+-------------+-------+----+\n",
      "\n"
     ]
    }
   ],
   "source": [
    "Customer_df.where(col('PersonID') == 'NULL').show()"
   ]
  },
  {
   "cell_type": "code",
   "execution_count": 184,
   "metadata": {},
   "outputs": [
    {
     "name": "stdout",
     "output_type": "stream",
     "text": [
      "+----------+--------+-----------+-------------+-------+----+\n",
      "|CustomerID|PersonID|TerritoryID|AccountNumber|rowguid|Date|\n",
      "+----------+--------+-----------+-------------+-------+----+\n",
      "|         0|       0|          0|            0|      0|   0|\n",
      "+----------+--------+-----------+-------------+-------+----+\n",
      "\n",
      "19119\n"
     ]
    }
   ],
   "source": [
    "\n",
    "df_missing_values_Customer_df = Customer_df.select([\n",
    "    sum(\n",
    "        when(\n",
    "            (col(c).isNull()) |               \n",
    "            (col(c) == '') |                  \n",
    "            (col(c) == ' ') |          \n",
    "            (col(c).rlike(r'^\\s*$')) | \n",
    "            (upper(col(c)) == 'NULL') |\n",
    "            (upper(col(c)) == 'NA') |  \n",
    "            (upper(col(c)) == 'NAN') |  \n",
    "            (upper(col(c)) == 'N/A') | \n",
    "            (upper(col(c)) == 'NONE'), \n",
    "            1\n",
    "        ).otherwise(0)\n",
    "    ).alias(c)\n",
    "    for c in Customer_df.columns\n",
    "])\n",
    "\n",
    "df_missing_values_Customer_df.show()\n",
    "print(Customer_df.count())\n"
   ]
  },
  {
   "cell_type": "code",
   "execution_count": 250,
   "metadata": {},
   "outputs": [
    {
     "data": {
      "text/plain": [
       "[('CustomerID', 'int'),\n",
       " ('PersonID', 'string'),\n",
       " ('StoreID', 'string'),\n",
       " ('TerritoryID', 'int'),\n",
       " ('AccountNumber', 'string'),\n",
       " ('rowguid', 'string'),\n",
       " ('ModifiedDate', 'timestamp')]"
      ]
     },
     "execution_count": 250,
     "metadata": {},
     "output_type": "execute_result"
    }
   ],
   "source": [
    "Customer_df.dtypes"
   ]
  },
  {
   "cell_type": "code",
   "execution_count": 251,
   "metadata": {},
   "outputs": [],
   "source": [
    "Customer_df = Customer_df.withColumn(\"PersonID\", Customer_df[\"PersonID\"].cast(\"int\"))"
   ]
  },
  {
   "cell_type": "markdown",
   "metadata": {},
   "source": [
    "## PersonCreditCard"
   ]
  },
  {
   "cell_type": "code",
   "execution_count": 191,
   "metadata": {},
   "outputs": [],
   "source": [
    "PersonCreditCard_df  = PersonCreditCard_df .withColumnRenamed(\"ModifiedDate\", \"Date\")"
   ]
  },
  {
   "cell_type": "code",
   "execution_count": 192,
   "metadata": {},
   "outputs": [
    {
     "data": {
      "text/plain": [
       "[('BusinessEntityID', 'int'), ('CreditCardID', 'int'), ('Date', 'timestamp')]"
      ]
     },
     "execution_count": 192,
     "metadata": {},
     "output_type": "execute_result"
    }
   ],
   "source": [
    "PersonCreditCard_df.dtypes"
   ]
  },
  {
   "cell_type": "code",
   "execution_count": 193,
   "metadata": {},
   "outputs": [
    {
     "name": "stdout",
     "output_type": "stream",
     "text": [
      "+----------------+------------+----+\n",
      "|BusinessEntityID|CreditCardID|Date|\n",
      "+----------------+------------+----+\n",
      "|               0|           0|   0|\n",
      "+----------------+------------+----+\n",
      "\n",
      "19118\n"
     ]
    }
   ],
   "source": [
    "\n",
    "df_missing_values_PersonCreditCard_df = PersonCreditCard_df.select([\n",
    "    sum(\n",
    "        when(\n",
    "            (col(c).isNull()) |               \n",
    "            (col(c) == '') |                  \n",
    "            (col(c) == ' ') |          \n",
    "            (col(c).rlike(r'^\\s*$')) | \n",
    "            (upper(col(c)) == 'NULL') |\n",
    "            (upper(col(c)) == 'NA') |  \n",
    "            (upper(col(c)) == 'NAN') |  \n",
    "            (upper(col(c)) == 'N/A') | \n",
    "            (upper(col(c)) == 'NONE'), \n",
    "            1\n",
    "        ).otherwise(0)\n",
    "    ).alias(c)\n",
    "    for c in PersonCreditCard_df.columns\n",
    "])\n",
    "\n",
    "df_missing_values_PersonCreditCard_df.show()\n",
    "print(PersonCreditCard_df.count())\n"
   ]
  },
  {
   "cell_type": "markdown",
   "metadata": {},
   "source": [
    "## SalesOrderDetail"
   ]
  },
  {
   "cell_type": "code",
   "execution_count": 194,
   "metadata": {},
   "outputs": [
    {
     "data": {
      "text/plain": [
       "121317"
      ]
     },
     "execution_count": 194,
     "metadata": {},
     "output_type": "execute_result"
    }
   ],
   "source": [
    "SalesOrderDetail_df.count()"
   ]
  },
  {
   "cell_type": "code",
   "execution_count": 197,
   "metadata": {},
   "outputs": [],
   "source": [
    "SalesOrderDetail_df  = SalesOrderDetail_df .withColumnRenamed(\"ModifiedDate\", \"Date\")"
   ]
  },
  {
   "cell_type": "code",
   "execution_count": 195,
   "metadata": {},
   "outputs": [
    {
     "data": {
      "text/plain": [
       "[('SalesOrderID', 'int'),\n",
       " ('SalesOrderDetailID', 'int'),\n",
       " ('CarrierTrackingNumber', 'string'),\n",
       " ('OrderQty', 'int'),\n",
       " ('ProductID', 'int'),\n",
       " ('SpecialOfferID', 'int'),\n",
       " ('UnitPrice', 'double'),\n",
       " ('UnitPriceDiscount', 'double'),\n",
       " ('LineTotal', 'double'),\n",
       " ('rowguid', 'string'),\n",
       " ('ModifiedDate', 'timestamp')]"
      ]
     },
     "execution_count": 195,
     "metadata": {},
     "output_type": "execute_result"
    }
   ],
   "source": [
    "SalesOrderDetail_df.dtypes"
   ]
  },
  {
   "cell_type": "code",
   "execution_count": 196,
   "metadata": {},
   "outputs": [
    {
     "name": "stdout",
     "output_type": "stream",
     "text": [
      "+------------+------------------+---------------------+--------+---------+--------------+---------+-----------------+---------+-------+------------+\n",
      "|SalesOrderID|SalesOrderDetailID|CarrierTrackingNumber|OrderQty|ProductID|SpecialOfferID|UnitPrice|UnitPriceDiscount|LineTotal|rowguid|ModifiedDate|\n",
      "+------------+------------------+---------------------+--------+---------+--------------+---------+-----------------+---------+-------+------------+\n",
      "|           0|                 0|                60398|       0|        0|             0|        0|                0|        0|      0|           0|\n",
      "+------------+------------------+---------------------+--------+---------+--------------+---------+-----------------+---------+-------+------------+\n",
      "\n",
      "121317\n"
     ]
    }
   ],
   "source": [
    "\n",
    "df_missing_values_SalesOrderDetail_df = SalesOrderDetail_df.select([\n",
    "    sum(\n",
    "        when(\n",
    "            (col(c).isNull()) |               \n",
    "            (col(c) == '') |                  \n",
    "            (col(c) == ' ') |          \n",
    "            (col(c).rlike(r'^\\s*$')) | \n",
    "            (upper(col(c)) == 'NULL') |\n",
    "            (upper(col(c)) == 'NA') |  \n",
    "            (upper(col(c)) == 'NAN') |  \n",
    "            (upper(col(c)) == 'N/A') | \n",
    "            (upper(col(c)) == 'NONE'), \n",
    "            1\n",
    "        ).otherwise(0)\n",
    "    ).alias(c)\n",
    "    for c in SalesOrderDetail_df.columns\n",
    "])\n",
    "\n",
    "df_missing_values_SalesOrderDetail_df.show()\n",
    "print(SalesOrderDetail_df.count())\n"
   ]
  },
  {
   "cell_type": "code",
   "execution_count": 198,
   "metadata": {},
   "outputs": [
    {
     "data": {
      "text/plain": [
       "60398"
      ]
     },
     "execution_count": 198,
     "metadata": {},
     "output_type": "execute_result"
    }
   ],
   "source": [
    "SalesOrderDetail_df.where(col('CarrierTrackingNumber') == 'NULL').count()"
   ]
  },
  {
   "cell_type": "code",
   "execution_count": 203,
   "metadata": {},
   "outputs": [
    {
     "name": "stdout",
     "output_type": "stream",
     "text": [
      "pour CarrierTrackingNumber   0.4978527329228385  %\n"
     ]
    }
   ],
   "source": [
    "print(\"pour CarrierTrackingNumber  \",60398 /  SalesOrderDetail_df.count(), ' %')"
   ]
  },
  {
   "cell_type": "code",
   "execution_count": 204,
   "metadata": {},
   "outputs": [],
   "source": [
    "SalesOrderDetail_df = SalesOrderDetail_df.withColumn(\n",
    "    'CarrierTrackingNumber',\n",
    "    when(col(\"CarrierTrackingNumber\") == 'NULL', lit('UNKNOWN'))\n",
    "    .otherwise(SalesOrderDetail_df.CarrierTrackingNumber)\n",
    ")"
   ]
  },
  {
   "cell_type": "code",
   "execution_count": 252,
   "metadata": {},
   "outputs": [
    {
     "data": {
      "text/plain": [
       "[('SalesOrderID', 'int'),\n",
       " ('SalesOrderDetailID', 'int'),\n",
       " ('CarrierTrackingNumber', 'string'),\n",
       " ('OrderQty', 'int'),\n",
       " ('ProductID', 'int'),\n",
       " ('SpecialOfferID', 'int'),\n",
       " ('UnitPrice', 'double'),\n",
       " ('UnitPriceDiscount', 'double'),\n",
       " ('LineTotal', 'double'),\n",
       " ('rowguid', 'string'),\n",
       " ('ModifiedDate', 'timestamp')]"
      ]
     },
     "execution_count": 252,
     "metadata": {},
     "output_type": "execute_result"
    }
   ],
   "source": [
    "SalesOrderDetail_df.dtypes"
   ]
  },
  {
   "cell_type": "markdown",
   "metadata": {},
   "source": [
    "## SalesOrderHeader"
   ]
  },
  {
   "cell_type": "code",
   "execution_count": 221,
   "metadata": {},
   "outputs": [],
   "source": [
    "SalesOrderHeader_df  = SalesOrderHeader_df .withColumnRenamed(\"ModifiedDate\", \"Date\")"
   ]
  },
  {
   "cell_type": "code",
   "execution_count": 222,
   "metadata": {},
   "outputs": [
    {
     "data": {
      "text/plain": [
       "[('SalesOrderID', 'int'),\n",
       " ('RevisionNumber', 'int'),\n",
       " ('OrderDate', 'timestamp'),\n",
       " ('DueDate', 'timestamp'),\n",
       " ('ShipDate', 'timestamp'),\n",
       " ('Status', 'int'),\n",
       " ('OnlineOrderFlag', 'int'),\n",
       " ('SalesOrderNumber', 'string'),\n",
       " ('PurchaseOrderNumber', 'string'),\n",
       " ('AccountNumber', 'string'),\n",
       " ('CustomerID', 'int'),\n",
       " ('SalesPersonID', 'string'),\n",
       " ('TerritoryID', 'int'),\n",
       " ('BillToAddressID', 'int'),\n",
       " ('ShipToAddressID', 'int'),\n",
       " ('ShipMethodID', 'int'),\n",
       " ('CreditCardID', 'string'),\n",
       " ('CreditCardApprovalCode', 'string'),\n",
       " ('CurrencyRateID', 'string'),\n",
       " ('SubTotal', 'double'),\n",
       " ('TaxAmt', 'double'),\n",
       " ('Freight', 'double'),\n",
       " ('TotalDue', 'double'),\n",
       " ('Comment', 'string'),\n",
       " ('rowguid', 'string'),\n",
       " ('Date', 'timestamp')]"
      ]
     },
     "execution_count": 222,
     "metadata": {},
     "output_type": "execute_result"
    }
   ],
   "source": [
    "SalesOrderHeader_df.dtypes"
   ]
  },
  {
   "cell_type": "code",
   "execution_count": 223,
   "metadata": {},
   "outputs": [
    {
     "name": "stdout",
     "output_type": "stream",
     "text": [
      "+------------+--------------+---------+-------+--------+------+---------------+----------------+-------------------+-------------+----------+-------------+-----------+---------------+---------------+------------+------------+----------------------+--------------+--------+------+-------+--------+-------+-------+----+\n",
      "|SalesOrderID|RevisionNumber|OrderDate|DueDate|ShipDate|Status|OnlineOrderFlag|SalesOrderNumber|PurchaseOrderNumber|AccountNumber|CustomerID|SalesPersonID|TerritoryID|BillToAddressID|ShipToAddressID|ShipMethodID|CreditCardID|CreditCardApprovalCode|CurrencyRateID|SubTotal|TaxAmt|Freight|TotalDue|Comment|rowguid|Date|\n",
      "+------------+--------------+---------+-------+--------+------+---------------+----------------+-------------------+-------------+----------+-------------+-----------+---------------+---------------+------------+------------+----------------------+--------------+--------+------+-------+--------+-------+-------+----+\n",
      "|           0|             0|        0|      0|       0|     0|              0|               0|              27659|            0|         0|        27659|          0|              0|              0|           0|        1131|                  1131|         17489|       0|     0|      0|       0|  31465|      0|   0|\n",
      "+------------+--------------+---------+-------+--------+------+---------------+----------------+-------------------+-------------+----------+-------------+-----------+---------------+---------------+------------+------------+----------------------+--------------+--------+------+-------+--------+-------+-------+----+\n",
      "\n",
      "31465\n"
     ]
    }
   ],
   "source": [
    "\n",
    "df_missing_values_SalesOrderHeader_df = SalesOrderHeader_df.select([\n",
    "    sum(\n",
    "        when(\n",
    "            (col(c).isNull()) |               \n",
    "            (col(c) == '') |                  \n",
    "            (col(c) == ' ') |          \n",
    "            (col(c).rlike(r'^\\s*$')) | \n",
    "            (upper(col(c)) == 'NULL') |\n",
    "            (upper(col(c)) == 'NA') |  \n",
    "            (upper(col(c)) == 'NAN') |  \n",
    "            (upper(col(c)) == 'N/A') | \n",
    "            (upper(col(c)) == 'NONE'), \n",
    "            1\n",
    "        ).otherwise(0)\n",
    "    ).alias(c)\n",
    "    for c in SalesOrderHeader_df.columns\n",
    "])\n",
    "\n",
    "df_missing_values_SalesOrderHeader_df.show()\n",
    "print(SalesOrderHeader_df.count())\n"
   ]
  },
  {
   "cell_type": "code",
   "execution_count": 224,
   "metadata": {},
   "outputs": [
    {
     "name": "stdout",
     "output_type": "stream",
     "text": [
      "pour PurchaseOrderNumber 0.8790402034006038  %\n",
      "pour SalesPersonID 0.8790402034006038  %\n",
      "pour CreditCardID 0.035944700460829496  %\n",
      "pour CreditCardApprovalCode 0.035944700460829496  %\n",
      "pour CurrencyRateID 0.5558239313522962  %\n",
      "pour Comment 1.0  %\n"
     ]
    }
   ],
   "source": [
    "print(\"pour PurchaseOrderNumber\", 27659/SalesOrderHeader_df.count(), ' %')\n",
    "print(\"pour SalesPersonID\", 27659/SalesOrderHeader_df.count(), ' %')\n",
    "print(\"pour CreditCardID\", 1131/SalesOrderHeader_df.count(), ' %')\n",
    "print(\"pour CreditCardApprovalCode\", 1131/SalesOrderHeader_df.count(), ' %')\n",
    "print(\"pour CurrencyRateID\", 17489/SalesOrderHeader_df.count(), ' %')\n",
    "print(\"pour Comment\", 31465/SalesOrderHeader_df.count(), ' %')"
   ]
  },
  {
   "cell_type": "code",
   "execution_count": 235,
   "metadata": {},
   "outputs": [
    {
     "data": {
      "text/plain": [
       "2477"
      ]
     },
     "execution_count": 235,
     "metadata": {},
     "output_type": "execute_result"
    }
   ],
   "source": [
    "SalesOrderHeader_df.select(\"CurrencyRateID\").distinct().count()"
   ]
  },
  {
   "cell_type": "code",
   "execution_count": 227,
   "metadata": {},
   "outputs": [],
   "source": [
    "SalesOrderHeader_df = SalesOrderHeader_df.drop(\"PurchaseOrderNumber\", \"SalesPersonID\", \"Comment\", \"CurrencyRateID\")"
   ]
  },
  {
   "cell_type": "code",
   "execution_count": 230,
   "metadata": {},
   "outputs": [],
   "source": [
    "SalesOrderHeader_df = SalesOrderHeader_df.filter(col('CreditCardID') != 'NULL')"
   ]
  },
  {
   "cell_type": "code",
   "execution_count": 253,
   "metadata": {},
   "outputs": [
    {
     "data": {
      "text/plain": [
       "[('SalesOrderID', 'int'),\n",
       " ('RevisionNumber', 'int'),\n",
       " ('OrderDate', 'timestamp'),\n",
       " ('DueDate', 'timestamp'),\n",
       " ('ShipDate', 'timestamp'),\n",
       " ('Status', 'int'),\n",
       " ('OnlineOrderFlag', 'int'),\n",
       " ('SalesOrderNumber', 'string'),\n",
       " ('AccountNumber', 'string'),\n",
       " ('CustomerID', 'int'),\n",
       " ('TerritoryID', 'int'),\n",
       " ('BillToAddressID', 'int'),\n",
       " ('ShipToAddressID', 'int'),\n",
       " ('ShipMethodID', 'int'),\n",
       " ('CreditCardID', 'string'),\n",
       " ('CreditCardApprovalCode', 'string'),\n",
       " ('CurrencyRateID', 'string'),\n",
       " ('SubTotal', 'double'),\n",
       " ('TaxAmt', 'double'),\n",
       " ('Freight', 'double'),\n",
       " ('TotalDue', 'double'),\n",
       " ('rowguid', 'string'),\n",
       " ('Date', 'timestamp')]"
      ]
     },
     "execution_count": 253,
     "metadata": {},
     "output_type": "execute_result"
    }
   ],
   "source": [
    "SalesOrderHeader_df.dtypes"
   ]
  },
  {
   "cell_type": "code",
   "execution_count": 254,
   "metadata": {},
   "outputs": [],
   "source": [
    "SalesOrderHeader_df = SalesOrderHeader_df.withColumn(\"CreditCardID\", SalesOrderHeader_df[\"CreditCardID\"].cast(\"int\"))"
   ]
  },
  {
   "cell_type": "markdown",
   "metadata": {},
   "source": [
    "## SalesOrderHeaderSalesReason"
   ]
  },
  {
   "cell_type": "code",
   "execution_count": 236,
   "metadata": {},
   "outputs": [],
   "source": [
    "SalesOrderHeaderSalesReason_df  = SalesOrderHeaderSalesReason_df .withColumnRenamed(\"ModifiedDate\", \"Date\")"
   ]
  },
  {
   "cell_type": "code",
   "execution_count": 238,
   "metadata": {},
   "outputs": [
    {
     "name": "stdout",
     "output_type": "stream",
     "text": [
      "+------------+-------------+----+\n",
      "|SalesOrderID|SalesReasonID|Date|\n",
      "+------------+-------------+----+\n",
      "|           0|            0|   0|\n",
      "+------------+-------------+----+\n",
      "\n",
      "27647\n"
     ]
    }
   ],
   "source": [
    "\n",
    "df_missing_values_SalesOrderHeaderSalesReason_df = SalesOrderHeaderSalesReason_df.select([\n",
    "    sum(\n",
    "        when(\n",
    "            (col(c).isNull()) |               \n",
    "            (col(c) == '') |                  \n",
    "            (col(c) == ' ') |          \n",
    "            (col(c).rlike(r'^\\s*$')) | \n",
    "            (upper(col(c)) == 'NULL') |\n",
    "            (upper(col(c)) == 'NA') |  \n",
    "            (upper(col(c)) == 'NAN') |  \n",
    "            (upper(col(c)) == 'N/A') | \n",
    "            (upper(col(c)) == 'NONE'), \n",
    "            1\n",
    "        ).otherwise(0)\n",
    "    ).alias(c)\n",
    "    for c in SalesOrderHeaderSalesReason_df.columns\n",
    "])\n",
    "\n",
    "df_missing_values_SalesOrderHeaderSalesReason_df.show()\n",
    "print(SalesOrderHeaderSalesReason_df.count())\n"
   ]
  },
  {
   "cell_type": "code",
   "execution_count": 239,
   "metadata": {},
   "outputs": [
    {
     "data": {
      "text/plain": [
       "[('SalesOrderID', 'int'), ('SalesReasonID', 'int'), ('Date', 'timestamp')]"
      ]
     },
     "execution_count": 239,
     "metadata": {},
     "output_type": "execute_result"
    }
   ],
   "source": [
    "SalesOrderHeaderSalesReason_df.dtypes"
   ]
  },
  {
   "cell_type": "markdown",
   "metadata": {},
   "source": [
    "## SalesPerson"
   ]
  },
  {
   "cell_type": "code",
   "execution_count": 240,
   "metadata": {},
   "outputs": [],
   "source": [
    "SalesPerson_df  = SalesPerson_df .withColumnRenamed(\"ModifiedDate\", \"Date\")"
   ]
  },
  {
   "cell_type": "code",
   "execution_count": 241,
   "metadata": {},
   "outputs": [
    {
     "name": "stdout",
     "output_type": "stream",
     "text": [
      "+----------------+-----------+----------+-----+-------------+--------+-------------+-------+----+\n",
      "|BusinessEntityID|TerritoryID|SalesQuota|Bonus|CommissionPct|SalesYTD|SalesLastYear|rowguid|Date|\n",
      "+----------------+-----------+----------+-----+-------------+--------+-------------+-------+----+\n",
      "|               0|          3|         3|    0|            0|       0|            0|      0|   0|\n",
      "+----------------+-----------+----------+-----+-------------+--------+-------------+-------+----+\n",
      "\n",
      "17\n"
     ]
    }
   ],
   "source": [
    "\n",
    "df_missing_values_SalesPerson_df = SalesPerson_df.select([\n",
    "    sum(\n",
    "        when(\n",
    "            (col(c).isNull()) |               \n",
    "            (col(c) == '') |                  \n",
    "            (col(c) == ' ') |          \n",
    "            (col(c).rlike(r'^\\s*$')) | \n",
    "            (upper(col(c)) == 'NULL') |\n",
    "            (upper(col(c)) == 'NA') |  \n",
    "            (upper(col(c)) == 'NAN') |  \n",
    "            (upper(col(c)) == 'N/A') | \n",
    "            (upper(col(c)) == 'NONE'), \n",
    "            1\n",
    "        ).otherwise(0)\n",
    "    ).alias(c)\n",
    "    for c in SalesPerson_df.columns\n",
    "])\n",
    "\n",
    "df_missing_values_SalesPerson_df.show()\n",
    "print(SalesPerson_df.count())\n"
   ]
  },
  {
   "cell_type": "code",
   "execution_count": 244,
   "metadata": {},
   "outputs": [],
   "source": [
    "SalesPerson_df = SalesPerson_df.filter(col('TerritoryID') != 'NULL')"
   ]
  },
  {
   "cell_type": "code",
   "execution_count": 246,
   "metadata": {},
   "outputs": [
    {
     "data": {
      "text/plain": [
       "[('BusinessEntityID', 'int'),\n",
       " ('TerritoryID', 'string'),\n",
       " ('SalesQuota', 'string'),\n",
       " ('Bonus', 'double'),\n",
       " ('CommissionPct', 'double'),\n",
       " ('SalesYTD', 'double'),\n",
       " ('SalesLastYear', 'double'),\n",
       " ('rowguid', 'string'),\n",
       " ('Date', 'timestamp')]"
      ]
     },
     "execution_count": 246,
     "metadata": {},
     "output_type": "execute_result"
    }
   ],
   "source": [
    "SalesPerson_df.dtypes"
   ]
  },
  {
   "cell_type": "code",
   "execution_count": 248,
   "metadata": {},
   "outputs": [],
   "source": [
    "SalesPerson_df = SalesPerson_df.withColumn(\"TerritoryID\", SalesPerson_df[\"TerritoryID\"].cast(\"int\"))\n",
    "SalesPerson_df = SalesPerson_df.withColumn(\"SalesQuota\", SalesPerson_df[\"SalesQuota\"].cast(\"double\"))"
   ]
  },
  {
   "cell_type": "code",
   "execution_count": 249,
   "metadata": {},
   "outputs": [
    {
     "data": {
      "text/plain": [
       "[('BusinessEntityID', 'int'),\n",
       " ('TerritoryID', 'int'),\n",
       " ('SalesQuota', 'double'),\n",
       " ('Bonus', 'double'),\n",
       " ('CommissionPct', 'double'),\n",
       " ('SalesYTD', 'double'),\n",
       " ('SalesLastYear', 'double'),\n",
       " ('rowguid', 'string'),\n",
       " ('Date', 'timestamp')]"
      ]
     },
     "execution_count": 249,
     "metadata": {},
     "output_type": "execute_result"
    }
   ],
   "source": [
    "SalesPerson_df.dtypes"
   ]
  },
  {
   "cell_type": "markdown",
   "metadata": {},
   "source": [
    "## SalesPersonQuotaHistory"
   ]
  },
  {
   "cell_type": "code",
   "execution_count": 255,
   "metadata": {},
   "outputs": [],
   "source": [
    "SalesPersonQuotaHistory_df  = SalesPersonQuotaHistory_df .withColumnRenamed(\"ModifiedDate\", \"Date\")"
   ]
  },
  {
   "cell_type": "code",
   "execution_count": 256,
   "metadata": {},
   "outputs": [
    {
     "name": "stdout",
     "output_type": "stream",
     "text": [
      "+----------------+---------+----------+-------+----+\n",
      "|BusinessEntityID|QuotaDate|SalesQuota|rowguid|Date|\n",
      "+----------------+---------+----------+-------+----+\n",
      "|               0|        0|         0|      0|   0|\n",
      "+----------------+---------+----------+-------+----+\n",
      "\n",
      "163\n"
     ]
    }
   ],
   "source": [
    "\n",
    "df_missing_values_SalesPersonQuotaHistory_df = SalesPersonQuotaHistory_df.select([\n",
    "    sum(\n",
    "        when(\n",
    "            (col(c).isNull()) |               \n",
    "            (col(c) == '') |                  \n",
    "            (col(c) == ' ') |          \n",
    "            (col(c).rlike(r'^\\s*$')) | \n",
    "            (upper(col(c)) == 'NULL') |\n",
    "            (upper(col(c)) == 'NA') |  \n",
    "            (upper(col(c)) == 'NAN') |  \n",
    "            (upper(col(c)) == 'N/A') | \n",
    "            (upper(col(c)) == 'NONE'), \n",
    "            1\n",
    "        ).otherwise(0)\n",
    "    ).alias(c)\n",
    "    for c in SalesPersonQuotaHistory_df.columns\n",
    "])\n",
    "\n",
    "df_missing_values_SalesPersonQuotaHistory_df.show()\n",
    "print(SalesPersonQuotaHistory_df.count())\n"
   ]
  },
  {
   "cell_type": "code",
   "execution_count": 257,
   "metadata": {},
   "outputs": [
    {
     "data": {
      "text/plain": [
       "[('BusinessEntityID', 'int'),\n",
       " ('QuotaDate', 'timestamp'),\n",
       " ('SalesQuota', 'double'),\n",
       " ('rowguid', 'string'),\n",
       " ('Date', 'timestamp')]"
      ]
     },
     "execution_count": 257,
     "metadata": {},
     "output_type": "execute_result"
    }
   ],
   "source": [
    "SalesPersonQuotaHistory_df.dtypes"
   ]
  },
  {
   "cell_type": "markdown",
   "metadata": {},
   "source": [
    "## SalesReason"
   ]
  },
  {
   "cell_type": "code",
   "execution_count": 258,
   "metadata": {},
   "outputs": [
    {
     "data": {
      "text/plain": [
       "DataFrame[SalesReasonID: int, Name: string, ReasonType: string, Date: timestamp]"
      ]
     },
     "execution_count": 258,
     "metadata": {},
     "output_type": "execute_result"
    }
   ],
   "source": [
    "SalesReason_df = SalesReason_df.withColumnRenamed(\"ModifiedDate\", \"Date\")"
   ]
  },
  {
   "cell_type": "code",
   "execution_count": 259,
   "metadata": {},
   "outputs": [
    {
     "name": "stdout",
     "output_type": "stream",
     "text": [
      "+-------------+----+----------+------------+\n",
      "|SalesReasonID|Name|ReasonType|ModifiedDate|\n",
      "+-------------+----+----------+------------+\n",
      "|            0|   0|         0|           0|\n",
      "+-------------+----+----------+------------+\n",
      "\n",
      "10\n"
     ]
    }
   ],
   "source": [
    "\n",
    "df_missing_values_SalesReason_df = SalesReason_df.select([\n",
    "    sum(\n",
    "        when(\n",
    "            (col(c).isNull()) |               \n",
    "            (col(c) == '') |                  \n",
    "            (col(c) == ' ') |          \n",
    "            (col(c).rlike(r'^\\s*$')) | \n",
    "            (upper(col(c)) == 'NULL') |\n",
    "            (upper(col(c)) == 'NA') |  \n",
    "            (upper(col(c)) == 'NAN') |  \n",
    "            (upper(col(c)) == 'N/A') | \n",
    "            (upper(col(c)) == 'NONE'), \n",
    "            1\n",
    "        ).otherwise(0)\n",
    "    ).alias(c)\n",
    "    for c in SalesReason_df.columns\n",
    "])\n",
    "\n",
    "df_missing_values_SalesReason_df.show()\n",
    "print(SalesReason_df.count())\n"
   ]
  },
  {
   "cell_type": "code",
   "execution_count": 260,
   "metadata": {},
   "outputs": [
    {
     "data": {
      "text/plain": [
       "[('SalesReasonID', 'int'),\n",
       " ('Name', 'string'),\n",
       " ('ReasonType', 'string'),\n",
       " ('ModifiedDate', 'timestamp')]"
      ]
     },
     "execution_count": 260,
     "metadata": {},
     "output_type": "execute_result"
    }
   ],
   "source": [
    "SalesReason_df.dtypes"
   ]
  },
  {
   "cell_type": "markdown",
   "metadata": {},
   "source": [
    "## SalesTaxRate"
   ]
  },
  {
   "cell_type": "code",
   "execution_count": 261,
   "metadata": {},
   "outputs": [],
   "source": [
    "SalesTaxRate_df = SalesTaxRate_df.withColumnRenamed(\"ModifiedDate\", \"Date\")"
   ]
  },
  {
   "cell_type": "code",
   "execution_count": 262,
   "metadata": {},
   "outputs": [
    {
     "name": "stdout",
     "output_type": "stream",
     "text": [
      "+--------------+---------------+-------+-------+----+-------+----+\n",
      "|SalesTaxRateID|StateProvinceID|TaxType|TaxRate|Name|rowguid|Date|\n",
      "+--------------+---------------+-------+-------+----+-------+----+\n",
      "|             0|              0|      0|      0|   0|      0|   0|\n",
      "+--------------+---------------+-------+-------+----+-------+----+\n",
      "\n",
      "29\n"
     ]
    }
   ],
   "source": [
    "\n",
    "df_missing_values_SalesTaxRate_df = SalesTaxRate_df.select([\n",
    "    sum(\n",
    "        when(\n",
    "            (col(c).isNull()) |               \n",
    "            (col(c) == '') |                  \n",
    "            (col(c) == ' ') |          \n",
    "            (col(c).rlike(r'^\\s*$')) | \n",
    "            (upper(col(c)) == 'NULL') |\n",
    "            (upper(col(c)) == 'NA') |  \n",
    "            (upper(col(c)) == 'NAN') |  \n",
    "            (upper(col(c)) == 'N/A') | \n",
    "            (upper(col(c)) == 'NONE'), \n",
    "            1\n",
    "        ).otherwise(0)\n",
    "    ).alias(c)\n",
    "    for c in SalesTaxRate_df.columns\n",
    "])\n",
    "\n",
    "df_missing_values_SalesTaxRate_df.show()\n",
    "print(SalesTaxRate_df.count())\n"
   ]
  },
  {
   "cell_type": "code",
   "execution_count": 263,
   "metadata": {},
   "outputs": [
    {
     "data": {
      "text/plain": [
       "[('SalesTaxRateID', 'int'),\n",
       " ('StateProvinceID', 'int'),\n",
       " ('TaxType', 'int'),\n",
       " ('TaxRate', 'double'),\n",
       " ('Name', 'string'),\n",
       " ('rowguid', 'string'),\n",
       " ('Date', 'timestamp')]"
      ]
     },
     "execution_count": 263,
     "metadata": {},
     "output_type": "execute_result"
    }
   ],
   "source": [
    "SalesTaxRate_df.dtypes"
   ]
  },
  {
   "cell_type": "markdown",
   "metadata": {},
   "source": [
    "## SalesTerritory"
   ]
  },
  {
   "cell_type": "code",
   "execution_count": 264,
   "metadata": {},
   "outputs": [],
   "source": [
    "SalesTerritory_df = SalesTerritory_df.withColumnRenamed(\"ModifiedDate\", \"Date\")"
   ]
  },
  {
   "cell_type": "code",
   "execution_count": 265,
   "metadata": {},
   "outputs": [
    {
     "name": "stdout",
     "output_type": "stream",
     "text": [
      "+-----------+----+-----------------+-----+--------+-------------+-------+------------+-------+----+\n",
      "|TerritoryID|Name|CountryRegionCode|Group|SalesYTD|SalesLastYear|CostYTD|CostLastYear|rowguid|Date|\n",
      "+-----------+----+-----------------+-----+--------+-------------+-------+------------+-------+----+\n",
      "|          0|   0|                0|    0|       0|            0|      0|           0|      0|   0|\n",
      "+-----------+----+-----------------+-----+--------+-------------+-------+------------+-------+----+\n",
      "\n",
      "10\n"
     ]
    }
   ],
   "source": [
    "\n",
    "df_missing_values_SalesTerritory_df = SalesTerritory_df.select([\n",
    "    sum(\n",
    "        when(\n",
    "            (col(c).isNull()) |               \n",
    "            (col(c) == '') |                  \n",
    "            (col(c) == ' ') |          \n",
    "            (col(c).rlike(r'^\\s*$')) | \n",
    "            (upper(col(c)) == 'NULL') |\n",
    "            (upper(col(c)) == 'NA') |  \n",
    "            (upper(col(c)) == 'NAN') |  \n",
    "            (upper(col(c)) == 'N/A') | \n",
    "            (upper(col(c)) == 'NONE'), \n",
    "            1\n",
    "        ).otherwise(0)\n",
    "    ).alias(c)\n",
    "    for c in SalesTerritory_df.columns\n",
    "])\n",
    "\n",
    "df_missing_values_SalesTerritory_df.show()\n",
    "print(SalesTerritory_df.count())\n"
   ]
  },
  {
   "cell_type": "code",
   "execution_count": 266,
   "metadata": {},
   "outputs": [
    {
     "data": {
      "text/plain": [
       "[('TerritoryID', 'int'),\n",
       " ('Name', 'string'),\n",
       " ('CountryRegionCode', 'string'),\n",
       " ('Group', 'string'),\n",
       " ('SalesYTD', 'double'),\n",
       " ('SalesLastYear', 'double'),\n",
       " ('CostYTD', 'double'),\n",
       " ('CostLastYear', 'double'),\n",
       " ('rowguid', 'string'),\n",
       " ('Date', 'timestamp')]"
      ]
     },
     "execution_count": 266,
     "metadata": {},
     "output_type": "execute_result"
    }
   ],
   "source": [
    "SalesTerritory_df.dtypes"
   ]
  },
  {
   "cell_type": "markdown",
   "metadata": {},
   "source": [
    "## SalesTerritoryHistory"
   ]
  },
  {
   "cell_type": "code",
   "execution_count": 267,
   "metadata": {},
   "outputs": [],
   "source": [
    "SalesTerritoryHistory_df = SalesTerritoryHistory_df.withColumnRenamed(\"ModifiedDate\", \"Date\")"
   ]
  },
  {
   "cell_type": "code",
   "execution_count": 268,
   "metadata": {},
   "outputs": [
    {
     "name": "stdout",
     "output_type": "stream",
     "text": [
      "+----------------+-----------+---------+-------+-------+----+\n",
      "|BusinessEntityID|TerritoryID|StartDate|EndDate|rowguid|Date|\n",
      "+----------------+-----------+---------+-------+-------+----+\n",
      "|               0|          0|        0|     13|      0|   0|\n",
      "+----------------+-----------+---------+-------+-------+----+\n",
      "\n",
      "17\n"
     ]
    }
   ],
   "source": [
    "\n",
    "df_missing_values_SalesTerritoryHistory_df = SalesTerritoryHistory_df.select([\n",
    "    sum(\n",
    "        when(\n",
    "            (col(c).isNull()) |               \n",
    "            (col(c) == '') |                  \n",
    "            (col(c) == ' ') |          \n",
    "            (col(c).rlike(r'^\\s*$')) | \n",
    "            (upper(col(c)) == 'NULL') |\n",
    "            (upper(col(c)) == 'NA') |  \n",
    "            (upper(col(c)) == 'NAN') |  \n",
    "            (upper(col(c)) == 'N/A') | \n",
    "            (upper(col(c)) == 'NONE'), \n",
    "            1\n",
    "        ).otherwise(0)\n",
    "    ).alias(c)\n",
    "    for c in SalesTerritoryHistory_df.columns\n",
    "])\n",
    "\n",
    "df_missing_values_SalesTerritoryHistory_df.show()\n",
    "print(SalesTerritoryHistory_df.count())\n"
   ]
  },
  {
   "cell_type": "code",
   "execution_count": 273,
   "metadata": {},
   "outputs": [],
   "source": [
    "SalesTerritoryHistory_df = SalesTerritoryHistory_df.drop('EndDate')\n",
    "# to discuss"
   ]
  },
  {
   "cell_type": "code",
   "execution_count": 274,
   "metadata": {},
   "outputs": [
    {
     "name": "stdout",
     "output_type": "stream",
     "text": [
      "+----------------+-----------+-------------------+--------------------+-------------------+\n",
      "|BusinessEntityID|TerritoryID|          StartDate|             rowguid|               Date|\n",
      "+----------------+-----------+-------------------+--------------------+-------------------+\n",
      "|             290|          7|2012-05-30 00:00:00|8895E74D-6D38-414...|2012-05-23 00:00:00|\n",
      "|             276|          4|2011-05-31 00:00:00|64BCB1B3-A793-40B...|2011-05-24 00:00:00|\n",
      "+----------------+-----------+-------------------+--------------------+-------------------+\n",
      "only showing top 2 rows\n",
      "\n"
     ]
    }
   ],
   "source": [
    "SalesTerritoryHistory_df.show(2)"
   ]
  },
  {
   "cell_type": "code",
   "execution_count": 275,
   "metadata": {},
   "outputs": [
    {
     "data": {
      "text/plain": [
       "[('BusinessEntityID', 'int'),\n",
       " ('TerritoryID', 'int'),\n",
       " ('StartDate', 'timestamp'),\n",
       " ('rowguid', 'string'),\n",
       " ('Date', 'timestamp')]"
      ]
     },
     "execution_count": 275,
     "metadata": {},
     "output_type": "execute_result"
    }
   ],
   "source": [
    "SalesTerritoryHistory_df.dtypes"
   ]
  },
  {
   "cell_type": "markdown",
   "metadata": {},
   "source": [
    "## ShoppingCartItem"
   ]
  },
  {
   "cell_type": "code",
   "execution_count": 276,
   "metadata": {},
   "outputs": [],
   "source": [
    "ShoppingCartItem_df = ShoppingCartItem_df.withColumnRenamed(\"ModifiedDate\", \"Date\")"
   ]
  },
  {
   "cell_type": "code",
   "execution_count": 278,
   "metadata": {},
   "outputs": [
    {
     "name": "stdout",
     "output_type": "stream",
     "text": [
      "+------------------+--------------+--------+---------+--------------------+--------------------+\n",
      "|ShoppingCartItemID|ShoppingCartID|Quantity|ProductID|         DateCreated|                Date|\n",
      "+------------------+--------------+--------+---------+--------------------+--------------------+\n",
      "|                 4|         20621|       4|      881|2013-11-09 17:54:...|2013-11-09 17:54:...|\n",
      "|                 5|         20621|       7|      874|2013-11-09 17:54:...|2013-11-09 17:54:...|\n",
      "|                 2|         14951|       3|      862|2013-11-09 17:54:...|2013-11-09 17:54:...|\n",
      "+------------------+--------------+--------+---------+--------------------+--------------------+\n",
      "\n"
     ]
    }
   ],
   "source": [
    "ShoppingCartItem_df.show()"
   ]
  },
  {
   "cell_type": "code",
   "execution_count": 277,
   "metadata": {},
   "outputs": [
    {
     "data": {
      "text/plain": [
       "[('ShoppingCartItemID', 'int'),\n",
       " ('ShoppingCartID', 'int'),\n",
       " ('Quantity', 'int'),\n",
       " ('ProductID', 'int'),\n",
       " ('DateCreated', 'timestamp'),\n",
       " ('Date', 'timestamp')]"
      ]
     },
     "execution_count": 277,
     "metadata": {},
     "output_type": "execute_result"
    }
   ],
   "source": [
    "ShoppingCartItem_df.dtypes"
   ]
  },
  {
   "cell_type": "markdown",
   "metadata": {},
   "source": [
    "## SpecialOffer"
   ]
  },
  {
   "cell_type": "code",
   "execution_count": 279,
   "metadata": {},
   "outputs": [],
   "source": [
    "SpecialOffer_df = SpecialOffer_df.withColumnRenamed(\"ModifiedDate\", \"Date\")"
   ]
  },
  {
   "cell_type": "code",
   "execution_count": 280,
   "metadata": {},
   "outputs": [
    {
     "name": "stdout",
     "output_type": "stream",
     "text": [
      "+--------------+-----------+-----------+----+--------+---------+-------+------+------+-------+----+\n",
      "|SpecialOfferID|Description|DiscountPct|Type|Category|StartDate|EndDate|MinQty|MaxQty|rowguid|Date|\n",
      "+--------------+-----------+-----------+----+--------+---------+-------+------+------+-------+----+\n",
      "|             0|          0|          0|   0|       0|        0|      0|     0|    12|      0|   0|\n",
      "+--------------+-----------+-----------+----+--------+---------+-------+------+------+-------+----+\n",
      "\n",
      "16\n"
     ]
    }
   ],
   "source": [
    "\n",
    "df_missing_values_SpecialOffer_df = SpecialOffer_df.select([\n",
    "    sum(\n",
    "        when(\n",
    "            (col(c).isNull()) |               \n",
    "            (col(c) == '') |                  \n",
    "            (col(c) == ' ') |          \n",
    "            (col(c).rlike(r'^\\s*$')) | \n",
    "            (upper(col(c)) == 'NULL') |\n",
    "            (upper(col(c)) == 'NA') |  \n",
    "            (upper(col(c)) == 'NAN') |  \n",
    "            (upper(col(c)) == 'N/A') | \n",
    "            (upper(col(c)) == 'NONE'), \n",
    "            1\n",
    "        ).otherwise(0)\n",
    "    ).alias(c)\n",
    "    for c in SpecialOffer_df.columns\n",
    "])\n",
    "\n",
    "df_missing_values_SpecialOffer_df.show()\n",
    "print(SpecialOffer_df.count())\n"
   ]
  },
  {
   "cell_type": "code",
   "execution_count": null,
   "metadata": {},
   "outputs": [],
   "source": [
    "# MaxQty : we can remove this columns but i think that there is a pattern behind it \n",
    "# 10 , 84"
   ]
  },
  {
   "cell_type": "code",
   "execution_count": 289,
   "metadata": {},
   "outputs": [],
   "source": [
    "SpecialOffer_df = SpecialOffer_df.drop(\"MaxQty\")"
   ]
  },
  {
   "cell_type": "code",
   "execution_count": 290,
   "metadata": {},
   "outputs": [
    {
     "data": {
      "text/plain": [
       "[('SpecialOfferID', 'int'),\n",
       " ('Description', 'string'),\n",
       " ('DiscountPct', 'double'),\n",
       " ('Type', 'string'),\n",
       " ('Category', 'string'),\n",
       " ('StartDate', 'timestamp'),\n",
       " ('EndDate', 'timestamp'),\n",
       " ('MinQty', 'int'),\n",
       " ('rowguid', 'string'),\n",
       " ('Date', 'timestamp')]"
      ]
     },
     "execution_count": 290,
     "metadata": {},
     "output_type": "execute_result"
    }
   ],
   "source": [
    "SpecialOffer_df.dtypes"
   ]
  },
  {
   "cell_type": "markdown",
   "metadata": {},
   "source": [
    "## SpecialOfferProduct"
   ]
  },
  {
   "cell_type": "code",
   "execution_count": 282,
   "metadata": {},
   "outputs": [],
   "source": [
    "SpecialOfferProduct_df = SpecialOfferProduct_df.withColumnRenamed(\"ModifiedDate\", \"Date\")"
   ]
  },
  {
   "cell_type": "code",
   "execution_count": 283,
   "metadata": {},
   "outputs": [
    {
     "name": "stdout",
     "output_type": "stream",
     "text": [
      "+--------------+---------+-------+----+\n",
      "|SpecialOfferID|ProductID|rowguid|Date|\n",
      "+--------------+---------+-------+----+\n",
      "|             0|        0|      0|   0|\n",
      "+--------------+---------+-------+----+\n",
      "\n",
      "538\n"
     ]
    }
   ],
   "source": [
    "\n",
    "df_missing_values_SpecialOfferProduct_df = SpecialOfferProduct_df.select([\n",
    "    sum(\n",
    "        when(\n",
    "            (col(c).isNull()) |               \n",
    "            (col(c) == '') |                  \n",
    "            (col(c) == ' ') |          \n",
    "            (col(c).rlike(r'^\\s*$')) | \n",
    "            (upper(col(c)) == 'NULL') |\n",
    "            (upper(col(c)) == 'NA') |  \n",
    "            (upper(col(c)) == 'NAN') |  \n",
    "            (upper(col(c)) == 'N/A') | \n",
    "            (upper(col(c)) == 'NONE'), \n",
    "            1\n",
    "        ).otherwise(0)\n",
    "    ).alias(c)\n",
    "    for c in SpecialOfferProduct_df.columns\n",
    "])\n",
    "\n",
    "df_missing_values_SpecialOfferProduct_df.show()\n",
    "print(SpecialOfferProduct_df.count())\n"
   ]
  },
  {
   "cell_type": "code",
   "execution_count": 284,
   "metadata": {},
   "outputs": [
    {
     "data": {
      "text/plain": [
       "[('SpecialOfferID', 'int'),\n",
       " ('ProductID', 'int'),\n",
       " ('rowguid', 'string'),\n",
       " ('Date', 'timestamp')]"
      ]
     },
     "execution_count": 284,
     "metadata": {},
     "output_type": "execute_result"
    }
   ],
   "source": [
    "SpecialOfferProduct_df.dtypes"
   ]
  },
  {
   "cell_type": "markdown",
   "metadata": {},
   "source": [
    "## Store"
   ]
  },
  {
   "cell_type": "code",
   "execution_count": 285,
   "metadata": {},
   "outputs": [],
   "source": [
    "Store_df = Store_df.withColumnRenamed(\"ModifiedDate\", \"Date\")"
   ]
  },
  {
   "cell_type": "code",
   "execution_count": 286,
   "metadata": {},
   "outputs": [
    {
     "name": "stdout",
     "output_type": "stream",
     "text": [
      "+----------------+----+-------------+------------+-------+----+\n",
      "|BusinessEntityID|Name|SalesPersonID|Demographics|rowguid|Date|\n",
      "+----------------+----+-------------+------------+-------+----+\n",
      "|               0|   0|            0|           0|      0|   0|\n",
      "+----------------+----+-------------+------------+-------+----+\n",
      "\n",
      "701\n"
     ]
    }
   ],
   "source": [
    "\n",
    "df_missing_values_Store_df = Store_df.select([\n",
    "    sum(\n",
    "        when(\n",
    "            (col(c).isNull()) |               \n",
    "            (col(c) == '') |                  \n",
    "            (col(c) == ' ') |          \n",
    "            (col(c).rlike(r'^\\s*$')) | \n",
    "            (upper(col(c)) == 'NULL') |\n",
    "            (upper(col(c)) == 'NA') |  \n",
    "            (upper(col(c)) == 'NAN') |  \n",
    "            (upper(col(c)) == 'N/A') | \n",
    "            (upper(col(c)) == 'NONE'), \n",
    "            1\n",
    "        ).otherwise(0)\n",
    "    ).alias(c)\n",
    "    for c in Store_df.columns\n",
    "])\n",
    "\n",
    "df_missing_values_Store_df.show()\n",
    "print(Store_df.count())\n"
   ]
  },
  {
   "cell_type": "code",
   "execution_count": 287,
   "metadata": {},
   "outputs": [
    {
     "data": {
      "text/plain": [
       "[('BusinessEntityID', 'int'),\n",
       " ('Name', 'string'),\n",
       " ('SalesPersonID', 'int'),\n",
       " ('Demographics', 'string'),\n",
       " ('rowguid', 'string'),\n",
       " ('Date', 'timestamp')]"
      ]
     },
     "execution_count": 287,
     "metadata": {},
     "output_type": "execute_result"
    }
   ],
   "source": [
    "Store_df.dtypes"
   ]
  },
  {
   "cell_type": "code",
   "execution_count": null,
   "metadata": {},
   "outputs": [],
   "source": []
  }
 ],
 "metadata": {
  "kernelspec": {
   "display_name": "Python 3",
   "language": "python",
   "name": "python3"
  },
  "language_info": {
   "codemirror_mode": {
    "name": "ipython",
    "version": 3
   },
   "file_extension": ".py",
   "mimetype": "text/x-python",
   "name": "python",
   "nbconvert_exporter": "python",
   "pygments_lexer": "ipython3",
   "version": "3.13.0"
  }
 },
 "nbformat": 4,
 "nbformat_minor": 2
}
